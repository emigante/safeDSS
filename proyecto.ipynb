{
 "cells": [
  {
   "cell_type": "code",
   "execution_count": 2,
   "metadata": {},
   "outputs": [
    {
     "ename": "ModuleNotFoundError",
     "evalue": "No module named 'sklearn'",
     "output_type": "error",
     "traceback": [
      "\u001b[1;31m---------------------------------------------------------------------------\u001b[0m",
      "\u001b[1;31mModuleNotFoundError\u001b[0m                       Traceback (most recent call last)",
      "\u001b[1;32mc:\\Users\\emili\\Documents\\Proyectos\\safe\\proyecto\\proyecto.ipynb Cell 1\u001b[0m in \u001b[0;36m<cell line: 2>\u001b[1;34m()\u001b[0m\n\u001b[0;32m      <a href='vscode-notebook-cell:/c%3A/Users/emili/Documents/Proyectos/safe/proyecto/proyecto.ipynb#W0sZmlsZQ%3D%3D?line=0'>1</a>\u001b[0m \u001b[39mimport\u001b[39;00m \u001b[39mpandas\u001b[39;00m \u001b[39mas\u001b[39;00m \u001b[39mpd\u001b[39;00m\n\u001b[1;32m----> <a href='vscode-notebook-cell:/c%3A/Users/emili/Documents/Proyectos/safe/proyecto/proyecto.ipynb#W0sZmlsZQ%3D%3D?line=1'>2</a>\u001b[0m \u001b[39mimport\u001b[39;00m \u001b[39msklearn\u001b[39;00m\n\u001b[0;32m      <a href='vscode-notebook-cell:/c%3A/Users/emili/Documents/Proyectos/safe/proyecto/proyecto.ipynb#W0sZmlsZQ%3D%3D?line=2'>3</a>\u001b[0m \u001b[39mfrom\u001b[39;00m \u001b[39msklearn\u001b[39;00m\u001b[39m.\u001b[39;00m\u001b[39mlinear_model\u001b[39;00m \u001b[39mimport\u001b[39;00m LinearRegression\n\u001b[0;32m      <a href='vscode-notebook-cell:/c%3A/Users/emili/Documents/Proyectos/safe/proyecto/proyecto.ipynb#W0sZmlsZQ%3D%3D?line=3'>4</a>\u001b[0m \u001b[39mimport\u001b[39;00m \u001b[39mnumpy\u001b[39;00m \u001b[39mas\u001b[39;00m \u001b[39mnp\u001b[39;00m\n",
      "\u001b[1;31mModuleNotFoundError\u001b[0m: No module named 'sklearn'"
     ]
    }
   ],
   "source": [
    "\n",
    "import pandas as pd\n",
    "import sklearn\n",
    "from sklearn.linear_model import LinearRegression\n",
    "import numpy as np\n",
    "from sklearn.model_selection import train_test_split\n",
    "from sklearn.metrics import mean_squared_error\n",
    "from sklearn.pipeline import Pipeline\n",
    "import random"
   ]
  },
  {
   "cell_type": "code",
   "execution_count": 5,
   "id": "5b5e1512",
   "metadata": {},
   "outputs": [],
   "source": [
    "h1csv = pd.read_csv(\"C:/Users/emili/Documents/Proyectos/safe/proyecto/H1.csv\")\n",
    "h2csv = pd.read_csv(\"C:/Users/emili/Documents/Proyectos/safe/proyecto/H2.csv\")"
   ]
  },
  {
   "cell_type": "code",
   "execution_count": 10,
   "id": "639d6801",
   "metadata": {},
   "outputs": [],
   "source": [
    "dfh1= pd.DataFrame(h1csv)"
   ]
  },
  {
   "cell_type": "code",
   "execution_count": 17,
   "id": "156cf6b1",
   "metadata": {},
   "outputs": [
    {
     "data": {
      "text/plain": [
       "IsCanceled                       int64\n",
       "LeadTime                         int64\n",
       "ArrivalDateYear                  int64\n",
       "ArrivalDateMonth                object\n",
       "ArrivalDateWeekNumber            int64\n",
       "ArrivalDateDayOfMonth            int64\n",
       "StaysInWeekendNights             int64\n",
       "StaysInWeekNights                int64\n",
       "Adults                           int64\n",
       "Children                         int64\n",
       "Babies                           int64\n",
       "Meal                            object\n",
       "Country                         object\n",
       "MarketSegment                   object\n",
       "DistributionChannel             object\n",
       "IsRepeatedGuest                  int64\n",
       "PreviousCancellations            int64\n",
       "PreviousBookingsNotCanceled      int64\n",
       "ReservedRoomType                object\n",
       "AssignedRoomType                object\n",
       "BookingChanges                   int64\n",
       "DepositType                     object\n",
       "Agent                           object\n",
       "Company                         object\n",
       "DaysInWaitingList                int64\n",
       "CustomerType                    object\n",
       "ADR                            float64\n",
       "RequiredCarParkingSpaces         int64\n",
       "TotalOfSpecialRequests           int64\n",
       "ReservationStatus               object\n",
       "ReservationStatusDate           object\n",
       "dtype: object"
      ]
     },
     "execution_count": 17,
     "metadata": {},
     "output_type": "execute_result"
    }
   ],
   "source": [
    "dfh1.dtypes"
   ]
  },
  {
   "cell_type": "code",
   "execution_count": 18,
   "id": "d747cb83",
   "metadata": {},
   "outputs": [
    {
     "name": "stdout",
     "output_type": "stream",
     "text": [
      "31\n"
     ]
    },
    {
     "data": {
      "text/plain": [
       "Index(['IsCanceled', 'LeadTime', 'ArrivalDateYear', 'ArrivalDateMonth',\n",
       "       'ArrivalDateWeekNumber', 'ArrivalDateDayOfMonth',\n",
       "       'StaysInWeekendNights', 'StaysInWeekNights', 'Adults', 'Children',\n",
       "       'Babies', 'Meal', 'Country', 'MarketSegment', 'DistributionChannel',\n",
       "       'IsRepeatedGuest', 'PreviousCancellations',\n",
       "       'PreviousBookingsNotCanceled', 'ReservedRoomType', 'AssignedRoomType',\n",
       "       'BookingChanges', 'DepositType', 'Agent', 'Company',\n",
       "       'DaysInWaitingList', 'CustomerType', 'ADR', 'RequiredCarParkingSpaces',\n",
       "       'TotalOfSpecialRequests', 'ReservationStatus', 'ReservationStatusDate'],\n",
       "      dtype='object')"
      ]
     },
     "execution_count": 18,
     "metadata": {},
     "output_type": "execute_result"
    }
   ],
   "source": [
    "print(len(dfh1.columns))\n",
    "dfh1.columns"
   ]
  },
  {
   "cell_type": "code",
   "execution_count": null,
   "id": "241644b0",
   "metadata": {},
   "outputs": [],
   "source": []
  }
 ],
 "metadata": {
  "kernelspec": {
   "display_name": "my_env",
   "language": "python",
   "name": "python3"
  },
  "language_info": {
   "codemirror_mode": {
    "name": "ipython",
    "version": 3
   },
   "file_extension": ".py",
   "mimetype": "text/x-python",
   "name": "python",
   "nbconvert_exporter": "python",
   "pygments_lexer": "ipython3",
   "version": "3.9.13"
  }
 },
 "nbformat": 4,
 "nbformat_minor": 5
}
